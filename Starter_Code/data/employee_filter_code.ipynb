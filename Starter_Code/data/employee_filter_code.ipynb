{
 "cells": [
  {
   "cell_type": "code",
   "execution_count": 1,
   "id": "d361cdd7-1968-4d23-8f23-864b3872ef9b",
   "metadata": {},
   "outputs": [],
   "source": [
    "import pandas as pd\n",
    "\n",
    "df = pd.read_csv('employees.csv')\n"
   ]
  },
  {
   "cell_type": "code",
   "execution_count": 2,
   "id": "9eb64473-70e0-4586-b11d-8a27b6ec6341",
   "metadata": {},
   "outputs": [],
   "source": [
    "df['birth_date']=pd.to_datetime(df['birth_date'])\n",
    "df['hire_date']=pd.to_datetime(df['hire_date'])\n"
   ]
  },
  {
   "cell_type": "code",
   "execution_count": 3,
   "id": "698156c7-3222-4bb2-8589-f7750bb3253c",
   "metadata": {},
   "outputs": [
    {
     "data": {
      "text/plain": [
       "emp_no                   int64\n",
       "emp_title_id            object\n",
       "birth_date      datetime64[ns]\n",
       "first_name              object\n",
       "last_name               object\n",
       "sex                     object\n",
       "hire_date       datetime64[ns]\n",
       "dtype: object"
      ]
     },
     "execution_count": 3,
     "metadata": {},
     "output_type": "execute_result"
    }
   ],
   "source": [
    "df.dtypes"
   ]
  },
  {
   "cell_type": "code",
   "execution_count": 4,
   "id": "72237d3a-4e70-47d2-a658-a87f7f2ee444",
   "metadata": {},
   "outputs": [],
   "source": [
    "df.to_csv('employees_python_final.csv',index=False)"
   ]
  },
  {
   "cell_type": "code",
   "execution_count": null,
   "id": "6b4a969c-4e9d-4044-a311-62adafd3c479",
   "metadata": {},
   "outputs": [],
   "source": []
  }
 ],
 "metadata": {
  "kernelspec": {
   "display_name": "Python [conda env:myfirstpythonenv] *",
   "language": "python",
   "name": "conda-env-myfirstpythonenv-py"
  },
  "language_info": {
   "codemirror_mode": {
    "name": "ipython",
    "version": 3
   },
   "file_extension": ".py",
   "mimetype": "text/x-python",
   "name": "python",
   "nbconvert_exporter": "python",
   "pygments_lexer": "ipython3",
   "version": "3.7.13"
  }
 },
 "nbformat": 4,
 "nbformat_minor": 5
}
